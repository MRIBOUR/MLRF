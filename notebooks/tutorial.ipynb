{
 "cells": [
  {
   "cell_type": "markdown",
   "metadata": {},
   "source": [
    "# Tutorial\n",
    "This notebook is a simple example on how to use the mlrf library."
   ]
  },
  {
   "cell_type": "markdown",
   "metadata": {},
   "source": [
    "## Importing the library\n",
    "The library is called mlrf.\n",
    "Available modules are: \n",
    "-   feature_extraction (FlattenFE, HogFE, BoVWFE)\n",
    "-   models (LogisticRegressionModel, KMeansModel, SVCModel)\n",
    "-   cifar_utils (load_cifar, find_cifar_path)"
   ]
  },
  {
   "cell_type": "code",
   "execution_count": 1,
   "metadata": {},
   "outputs": [],
   "source": [
    "from mlrf.feature_extraction import HoGFE\n",
    "from mlrf.models import SVCModel\n",
    "import mlrf"
   ]
  },
  {
   "cell_type": "markdown",
   "metadata": {},
   "source": [
    "## Loading the dataset\n",
    "Use the function load_cifar from cifar_utils to load the dataset.  \n",
    "Files should be in a data folder but can be founs anywhere in the library's architecture, as long as the folder containing the batch files is named 'cifar-10-batches-py'."
   ]
  },
  {
   "cell_type": "code",
   "execution_count": 2,
   "metadata": {},
   "outputs": [],
   "source": [
    "X_train, y_train, X_test, y_test = mlrf.cifar_utils.load_cifar()"
   ]
  },
  {
   "cell_type": "markdown",
   "metadata": {},
   "source": [
    "## Extracting Features\n",
    "To use the feature extraction classes, simply initialize them with the train data and use the get_features method."
   ]
  },
  {
   "cell_type": "code",
   "execution_count": 3,
   "metadata": {},
   "outputs": [],
   "source": [
    "Hog = HoGFE(X_train)\n",
    "X_train_hog = Hog.get_features()"
   ]
  },
  {
   "cell_type": "markdown",
   "metadata": {},
   "source": [
    "## Training a model\n",
    "To train a model, simply use the model classes that can be initialised with the models' hyper-parameters.  \n",
    "You can then use the fit or grid_search_cv methods to train them.  \n",
    "Note that the grid_search_cv method will require a grid of hyper-parameters as the first argument."
   ]
  },
  {
   "cell_type": "code",
   "execution_count": 4,
   "metadata": {},
   "outputs": [],
   "source": [
    "SVC = SVCModel()\n",
    "SVC.fit(X_train_hog, y_train)"
   ]
  },
  {
   "cell_type": "markdown",
   "metadata": {},
   "source": [
    "## Testing a model\n",
    "After extracting the features from our test set, we can test our model's accuracy using the test_accuracy method."
   ]
  },
  {
   "cell_type": "code",
   "execution_count": 5,
   "metadata": {},
   "outputs": [],
   "source": [
    "hog_test = HoGFE(X_test)\n",
    "X_test_hog = hog_test.get_features()"
   ]
  },
  {
   "cell_type": "code",
   "execution_count": 6,
   "metadata": {},
   "outputs": [
    {
     "data": {
      "text/plain": [
       "0.6472"
      ]
     },
     "execution_count": 6,
     "metadata": {},
     "output_type": "execute_result"
    }
   ],
   "source": [
    "SVC.test_accuracy(X_test_hog, y_test)"
   ]
  }
 ],
 "metadata": {
  "kernelspec": {
   "display_name": "MLRF-4ttkDPIn",
   "language": "python",
   "name": "python3"
  },
  "language_info": {
   "codemirror_mode": {
    "name": "ipython",
    "version": 3
   },
   "file_extension": ".py",
   "mimetype": "text/x-python",
   "name": "python",
   "nbconvert_exporter": "python",
   "pygments_lexer": "ipython3",
   "version": "3.12.3"
  }
 },
 "nbformat": 4,
 "nbformat_minor": 2
}
